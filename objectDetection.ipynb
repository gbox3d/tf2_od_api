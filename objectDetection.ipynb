{
 "cells": [
  {
   "cell_type": "markdown",
   "metadata": {},
   "source": [
    "### 텐서플로우 Object Detection API\n",
    "https://github.com/tensorflow/models/tree/master/research/object_detection  \n"
   ]
  },
  {
   "cell_type": "code",
   "execution_count": null,
   "metadata": {},
   "outputs": [],
   "source": [
    "import numpy as np\n",
    "import os\n",
    "import six.moves.urllib as urllib\n",
    "import sys\n",
    "import tarfile\n",
    "import tensorflow as tf\n",
    "import zipfile\n",
    "\n",
    "from collections import defaultdict\n",
    "from io import StringIO\n",
    "from matplotlib import pyplot as plt\n",
    "from PIL import Image\n",
    "from IPython.display import display\n",
    "import time\n",
    "\n",
    "print(\"버전: \", tf.__version__)\n",
    "print(\"즉시 실행 모드: \", tf.executing_eagerly())\n",
    "print(\"GPU \", \"사용 가능\" if tf.config.experimental.list_physical_devices(\"GPU\") else \"사용 불가능\")\n"
   ]
  },
  {
   "cell_type": "code",
   "execution_count": null,
   "metadata": {},
   "outputs": [],
   "source": [
    "from object_detection.utils import ops as utils_ops\n",
    "from object_detection.utils import label_map_util\n",
    "from object_detection.utils import visualization_utils as vis_util\n",
    "\n",
    "print('util modeules load ok')"
   ]
  },
  {
   "cell_type": "code",
   "execution_count": null,
   "metadata": {},
   "outputs": [],
   "source": [
    "# patch tf1 into `utils.ops`\n",
    "utils_ops.tf = tf.compat.v1\n",
    "\n",
    "# Patch the location of gfile\n",
    "tf.gfile = tf.io.gfile\n",
    "\n",
    "print('tf compat ready ok')\n"
   ]
  },
  {
   "cell_type": "code",
   "execution_count": null,
   "metadata": {},
   "outputs": [],
   "source": [
    "\n",
    "model_name = 'ssd_mobilenet_v1_coco_2017_11_17'\n",
    "model_dir = f\"./data/{model_name}/saved_model\"\n",
    "model = tf.saved_model.load(str(model_dir))\n",
    "model = model.signatures['serving_default']\n",
    "print(f'{model_name} load ok')\n",
    "print(model.inputs)"
   ]
  },
  {
   "cell_type": "code",
   "execution_count": null,
   "metadata": {},
   "outputs": [],
   "source": [
    "\n",
    "category_index = label_map_util.create_category_index_from_labelmap('./data/mscoco_label_map.pbtxt', use_display_name=True)\n",
    "print(category_index)"
   ]
  },
  {
   "cell_type": "markdown",
   "metadata": {},
   "source": [
    "### 이미지 로딩 \n",
    "주의사항 : 이미지 싸이즈가 홀수이면 안된다.  tensor형으로 변환 실패한다.  "
   ]
  },
  {
   "cell_type": "code",
   "execution_count": null,
   "metadata": {},
   "outputs": [],
   "source": [
    "#image_path = '../res/chinagirl.jpg'\n",
    "image_path = '../res/bird3.jpg'\n",
    "print('load image')\n",
    "image_np = np.array(Image.open(image_path))\n",
    "print(image_np.shape)\n",
    "print(type( image_np))"
   ]
  },
  {
   "cell_type": "code",
   "execution_count": null,
   "metadata": {},
   "outputs": [],
   "source": [
    "# image = np.asarray(image_np)\n",
    "# print(type( image))\n",
    "\n",
    "  # The input needs to be a tensor, convert it using `tf.convert_to_tensor`.\n",
    "input_tensor = tf.convert_to_tensor(image_np)\n",
    "\n",
    "  # The model expects a batch of images, so add an axis with `tf.newaxis`.\n",
    "input_tensor = input_tensor[tf.newaxis,...]\n",
    "\n",
    "  # Run inference\n",
    "print('start inference')\n",
    "start_tick = time.time()\n",
    "output_dict = model(input_tensor)\n",
    "\n",
    "# print(output_dict)\n",
    "\n",
    "print(f'end inference { time.time() - start_tick}')\n",
    "\n",
    "num_detections = int(output_dict.pop('num_detections'))\n",
    "output_dict = {key:value[0, :num_detections].numpy() for key,value in output_dict.items()}\n",
    "output_dict['num_detections'] = num_detections\n",
    "# detection_classes should be ints.\n",
    "output_dict['detection_classes'] = output_dict['detection_classes'].astype(np.int64)\n",
    "\n",
    "\n",
    "# print ( [key for key,value in output_dict.items() ] )\n",
    "# print ( output_dict['detection_classes'] )\n",
    "# print ( output_dict['detection_scores'] > 0.5 )\n",
    "\n",
    "\n"
   ]
  },
  {
   "cell_type": "code",
   "execution_count": null,
   "metadata": {},
   "outputs": [],
   "source": [
    "print(output_dict['num_detections'])\n",
    "print ( [key for key,value in output_dict.items() ] )"
   ]
  },
  {
   "cell_type": "code",
   "execution_count": null,
   "metadata": {},
   "outputs": [],
   "source": [
    "start_tick = time.time()\n",
    "_img_temp = image_np.copy()\n",
    "vis_util.visualize_boxes_and_labels_on_image_array(\n",
    "      _img_temp,\n",
    "      output_dict['detection_boxes'],\n",
    "      output_dict['detection_classes'],\n",
    "      output_dict['detection_scores'],\n",
    "      category_index,\n",
    "      instance_masks=output_dict.get('detection_masks_reframed', None),\n",
    "      use_normalized_coordinates=True,\n",
    "      line_thickness=8)\n",
    "\n",
    "display(Image.fromarray(_img_temp))\n",
    "\n",
    "print(f'draw delay { time.time() - start_tick}')"
   ]
  }
 ],
 "metadata": {
  "language_info": {
   "codemirror_mode": {
    "name": "ipython",
    "version": 3
   },
   "file_extension": ".py",
   "mimetype": "text/x-python",
   "name": "python",
   "nbconvert_exporter": "python",
   "pygments_lexer": "ipython3",
   "version": "3.7.7-final"
  },
  "orig_nbformat": 2,
  "kernelspec": {
   "name": "python37764bitopencv4conda267d1634dd1a45bf9087c461d989978c",
   "display_name": "Python 3.7.7 64-bit ('opencv4': conda)"
  }
 },
 "nbformat": 4,
 "nbformat_minor": 2
}